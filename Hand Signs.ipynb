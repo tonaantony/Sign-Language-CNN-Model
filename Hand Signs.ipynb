{
 "cells": [
  {
   "cell_type": "markdown",
   "id": "d5f6f338",
   "metadata": {},
   "source": [
    "###### Import Necessary Libraries"
   ]
  },
  {
   "cell_type": "code",
   "execution_count": 35,
   "id": "50ce4aea",
   "metadata": {},
   "outputs": [],
   "source": [
    "import os\n",
    "import numpy as np\n",
    "import tensorflow as tf\n",
    "from tensorflow import keras\n",
    "from tensorflow.keras import layers\n",
    "from tensorflow.keras.preprocessing.image import ImageDataGenerator"
   ]
  },
  {
   "cell_type": "markdown",
   "id": "03f54aca",
   "metadata": {},
   "source": [
    "###### Import Necessary Libraries"
   ]
  },
  {
   "cell_type": "code",
   "execution_count": 36,
   "id": "b5dad35a",
   "metadata": {},
   "outputs": [
    {
     "name": "stdout",
     "output_type": "stream",
     "text": [
      "Found 2062 images belonging to 10 classes.\n",
      "Found 2062 images belonging to 10 classes.\n"
     ]
    }
   ],
   "source": [
    "# Define constants\n",
    "image_size = (64, 64)\n",
    "batch_size = 32\n",
    "num_classes = 10\n",
    "epochs = 10\n",
    "\n",
    "# Define data paths\n",
    "train_data_dir = 'dataset/training'\n",
    "validation_data_dir = 'dataset/validation'\n",
    "\n",
    "# Create an image data generator with data augmentation for training data\n",
    "train_datagen = ImageDataGenerator(\n",
    "    rescale=1./255,          # Rescale pixel values to [0, 1]\n",
    "    rotation_range=20,      # Randomly rotate images by up to 20 degrees\n",
    "    width_shift_range=0.2,  # Randomly shift images horizontally by up to 20%\n",
    "    height_shift_range=0.2, # Randomly shift images vertically by up to 20%\n",
    "    shear_range=0.2,        # Shear transformations\n",
    "    zoom_range=0.2,         # Randomly zoom in on images\n",
    "    horizontal_flip=True,   # Randomly flip images horizontally\n",
    "    fill_mode='nearest'     # Fill in missing pixels with the nearest value\n",
    ")\n",
    "\n",
    "# Load and prepare the training data\n",
    "train_generator = train_datagen.flow_from_directory(\n",
    "    train_data_dir,\n",
    "    target_size=image_size,\n",
    "    batch_size=batch_size,\n",
    "    class_mode='categorical'\n",
    ")\n",
    "\n",
    "# Load and prepare the validation data\n",
    "validation_datagen = ImageDataGenerator(rescale=1./255)  # Only rescale for validation\n",
    "validation_generator = validation_datagen.flow_from_directory(\n",
    "    validation_data_dir,\n",
    "    target_size=image_size,\n",
    "    batch_size=batch_size,\n",
    "    class_mode='categorical'\n",
    ")"
   ]
  },
  {
   "cell_type": "markdown",
   "id": "35aa5653",
   "metadata": {},
   "source": [
    "###### Build and Compile Model"
   ]
  },
  {
   "cell_type": "code",
   "execution_count": 37,
   "id": "4891658f",
   "metadata": {},
   "outputs": [],
   "source": [
    "# Build a convolutional neural network model\n",
    "model = keras.Sequential([\n",
    "    layers.Conv2D(32, (3, 3), input_shape=(image_size[0], image_size[1], 3), activation='relu'),\n",
    "    layers.MaxPooling2D(pool_size=(2, 2)),\n",
    "    layers.Conv2D(64, (3, 3), activation='relu'),\n",
    "    layers.MaxPooling2D(pool_size=(2, 2)),\n",
    "    layers.Conv2D(128, (3, 3), activation='relu'),\n",
    "    layers.MaxPooling2D(pool_size=(2, 2)),\n",
    "    layers.Flatten(),\n",
    "    layers.Dense(512, activation='relu'),\n",
    "    layers.Dense(num_classes, activation='softmax')\n",
    "])\n",
    "\n",
    "# Compile the model\n",
    "model.compile(loss='categorical_crossentropy', optimizer='adam', metrics=['accuracy'])"
   ]
  },
  {
   "cell_type": "markdown",
   "id": "260e551d",
   "metadata": {},
   "source": [
    "###### Train Model"
   ]
  },
  {
   "cell_type": "code",
   "execution_count": 40,
   "id": "53cccecd",
   "metadata": {},
   "outputs": [
    {
     "name": "stdout",
     "output_type": "stream",
     "text": [
      "Epoch 1/10\n",
      "64/64 [==============================] - 12s 183ms/step - loss: 0.7006 - accuracy: 0.7704 - val_loss: 0.2753 - val_accuracy: 0.9033\n",
      "Epoch 2/10\n",
      "64/64 [==============================] - 11s 176ms/step - loss: 0.6454 - accuracy: 0.7709 - val_loss: 0.2978 - val_accuracy: 0.8999\n",
      "Epoch 3/10\n",
      "64/64 [==============================] - 11s 171ms/step - loss: 0.6243 - accuracy: 0.7936 - val_loss: 0.3078 - val_accuracy: 0.8994\n",
      "Epoch 4/10\n",
      "64/64 [==============================] - 11s 172ms/step - loss: 0.5664 - accuracy: 0.8034 - val_loss: 0.1911 - val_accuracy: 0.9434\n",
      "Epoch 5/10\n",
      "64/64 [==============================] - 11s 177ms/step - loss: 0.5248 - accuracy: 0.8167 - val_loss: 0.1995 - val_accuracy: 0.9385\n",
      "Epoch 6/10\n",
      "64/64 [==============================] - 11s 175ms/step - loss: 0.5662 - accuracy: 0.7980 - val_loss: 0.3945 - val_accuracy: 0.8516\n",
      "Epoch 7/10\n",
      "64/64 [==============================] - 11s 174ms/step - loss: 0.4997 - accuracy: 0.8291 - val_loss: 0.1709 - val_accuracy: 0.9521\n",
      "Epoch 8/10\n",
      "64/64 [==============================] - 11s 176ms/step - loss: 0.4448 - accuracy: 0.8478 - val_loss: 0.1528 - val_accuracy: 0.9551\n",
      "Epoch 9/10\n",
      "64/64 [==============================] - 11s 177ms/step - loss: 0.4234 - accuracy: 0.8626 - val_loss: 0.1339 - val_accuracy: 0.9609\n",
      "Epoch 10/10\n",
      "64/64 [==============================] - 12s 181ms/step - loss: 0.4774 - accuracy: 0.8404 - val_loss: 0.2001 - val_accuracy: 0.9341\n"
     ]
    }
   ],
   "source": [
    "# Train the model\n",
    "history = model.fit(\n",
    "    train_generator,\n",
    "    steps_per_epoch=train_generator.samples // batch_size,\n",
    "    epochs=epochs,\n",
    "    validation_data=validation_generator,\n",
    "    validation_steps=validation_generator.samples // batch_size\n",
    ")"
   ]
  },
  {
   "cell_type": "markdown",
   "id": "4a4f6f59",
   "metadata": {},
   "source": [
    "######  Evaluate Model"
   ]
  },
  {
   "cell_type": "code",
   "execution_count": 41,
   "id": "a0681ef2",
   "metadata": {},
   "outputs": [
    {
     "name": "stdout",
     "output_type": "stream",
     "text": [
      "64/64 [==============================] - 3s 53ms/step - loss: 0.2003 - accuracy: 0.9341\n",
      "Test accuracy: 93.41%\n"
     ]
    }
   ],
   "source": [
    "# Evaluate the model on test data\n",
    "test_loss, test_accuracy = model.evaluate(validation_generator, steps=validation_generator.samples // batch_size)\n",
    "print(f'Test accuracy: {test_accuracy * 100:.2f}%')"
   ]
  },
  {
   "cell_type": "markdown",
   "id": "ee72b5b3",
   "metadata": {},
   "source": [
    "###### Make Predictions"
   ]
  },
  {
   "cell_type": "code",
   "execution_count": 47,
   "id": "5398f6e4",
   "metadata": {},
   "outputs": [
    {
     "data": {
      "image/png": "[encoded data removed]",
      "text/plain": [
       "<Figure size 432x288 with 1 Axes>"
      ]
     },
     "metadata": {
      "needs_background": "light"
     },
     "output_type": "display_data"
    }
   ],
   "source": [
    "import matplotlib.pyplot as plt\n",
    "# Make predictions on the validation dataset\n",
    "predictions = model.predict(validation_generator)\n",
    "\n",
    "# You can map integer labels to class names if you have a mapping\n",
    "class_names = ['Class 0', 'Class 1', 'Class 2', 'Class 3', 'Class 4', 'Class 5', 'Class 6', 'Class 7', 'Class 8', 'Class 9']  # Replace with your class labels\n",
    "\n",
    "# Number of images you want to visualize (adjust as needed)\n",
    "num_images_to_visualize = 1\n",
    "\n",
    "# Visualize a random selection of images\n",
    "for i in range(num_images_to_visualize):\n",
    "    index = np.random.randint(0, len(validation_generator))\n",
    "    images, labels = validation_generator[index]\n",
    "    \n",
    "    # Visualize the first image in the batch\n",
    "    image = images[0]\n",
    "    predicted_class = np.argmax(predictions[index])\n",
    "    true_class = np.argmax(labels[0])\n",
    "    \n",
    "    # Display the image\n",
    "    plt.imshow(image)\n",
    "    plt.title(f\"True: {class_names[true_class]}, Predicted: {class_names[predicted_class]}\")\n",
    "    plt.axis('off')\n",
    "    plt.show()"
   ]
  },
  {
   "cell_type": "code",
   "execution_count": null,
   "id": "6976e9e5",
   "metadata": {},
   "outputs": [],
   "source": []
  }
 ],
 "metadata": {
  "kernelspec": {
   "display_name": "Python 3 (ipykernel)",
   "language": "python",
   "name": "python3"
  },
  "language_info": {
   "codemirror_mode": {
    "name": "ipython",
    "version": 3
   },
   "file_extension": ".py",
   "mimetype": "text/x-python",
   "name": "python",
   "nbconvert_exporter": "python",
   "pygments_lexer": "ipython3",
   "version": "3.9.7"
  }
 },
 "nbformat": 4,
 "nbformat_minor": 5
}
